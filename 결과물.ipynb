{
 "cells": [
  {
   "cell_type": "markdown",
   "id": "20c2034e",
   "metadata": {},
   "source": [
    "## 1. 크롤링에 필요한 모듈 설치"
   ]
  },
  {
   "cell_type": "code",
   "execution_count": 1,
   "id": "9930fa58",
   "metadata": {},
   "outputs": [],
   "source": [
    "#크롤링에 필요한 모듈 설치\n",
    "from selenium import webdriver\n",
    "import pandas as pd\n",
    "import time\n",
    "from tqdm import tqdm\n",
    "import os"
   ]
  },
  {
   "cell_type": "markdown",
   "id": "c59983be",
   "metadata": {},
   "source": [
    "## 2. 엑셀파일을 열기"
   ]
  },
  {
   "cell_type": "code",
   "execution_count": 2,
   "id": "9184531e",
   "metadata": {},
   "outputs": [],
   "source": [
    "#판다스로 엑셀파일 열어 'crawling_date'시트의 날짜데이터를 dataframe형태로 취하기\n",
    "crawlingList_date= pd.read_excel('☆22.07.12 항공정보 전국공항운항현황.xlsx', sheet_name='crawling_date')"
   ]
  },
  {
   "cell_type": "markdown",
   "id": "f2406337",
   "metadata": {},
   "source": [
    "## 3. 엑셀파일로부터 필요한 데이터(date) 가져오기"
   ]
  },
  {
   "cell_type": "code",
   "execution_count": 3,
   "id": "3c2a3ea0",
   "metadata": {},
   "outputs": [],
   "source": [
    "#판다스 데이터프레임을 딕셔너리로 변환\n",
    "date_dic=crawlingList_date.to_dict()\n",
    "#변환한 딕셔너리의 키를 이용해 원하는 칼럼을 가져와 리스트로 변환\n",
    "date_dic_val = date_dic['date'].values()\n",
    "date_dic_list=list(date_dic_val)\n",
    "#날짜에서 '-'빼기 ex) 2009-01-01 => 20090101\n",
    "date=[]\n",
    "for i in date_dic_list:\n",
    "    date.append(i[0:4]+i[5:7]+i[8:])"
   ]
  },
  {
   "cell_type": "markdown",
   "id": "3fbb79bf",
   "metadata": {},
   "source": [
    "## 4. 크롬드라이버를 이용해 작업할 웹페이지로 이동"
   ]
  },
  {
   "cell_type": "code",
   "execution_count": 4,
   "id": "2e475d4b",
   "metadata": {},
   "outputs": [],
   "source": [
    "#Chrome(여기에 크롬드라이버 프로그램의 경로 적기) : 크롬웹드라이버 객체 생성\n",
    "browser = webdriver.Chrome(\"C:/chromedriver_win32/chromedriver.exe\")\n",
    "base_url = 'https://www.airportal.go.kr/life/airinfo/RbHanFrmMain.jsp'\n",
    "#브라우저에서 .get()에 명시한 url로 이동 \n",
    "browser.get(base_url)\n",
    "#xpath를 사용해 엘리먼트 찾아가기 -> '전국공항운항현황'링크의 xpath\n",
    "elem = browser.find_element_by_xpath(\"/html/body/table/tbody/tr[5]/td[1]/table/tbody/tr[3]/td/table/tbody/tr[2]/td[2]/a\")\n",
    "#찾은 엘리먼트 클릭하기->'전국공항운항현황'으로 웹페이지 이동\n",
    "elem.click()"
   ]
  },
  {
   "cell_type": "markdown",
   "id": "6f922367",
   "metadata": {},
   "source": [
    "## 5. date리스트를 반복하며 날짜별로 필요한 데이터 가져오기"
   ]
  },
  {
   "cell_type": "code",
   "execution_count": null,
   "id": "b5e94995",
   "metadata": {},
   "outputs": [],
   "source": [
    "#공항별 데이터를 저장할 리스트 생성\n",
    "incheon=[]\n",
    "gimpo=[]\n",
    "jeju=[]\n",
    "\n",
    "\n",
    "\n",
    "#반복\n",
    "for i in tqdm(date):\n",
    "    #날짜 입력 엘리먼트 선택\n",
    "    browser.switch_to.frame(browser.find_element_by_xpath('//*[@id=\"main\"]'))\n",
    "    elem = browser.find_element_by_xpath('/html/body/form/table/tbody/tr/td[2]/table/tbody/tr[3]/td/table/tbody/tr[2]/td/input')\n",
    "    #날짜 입력칸의 기존 글자를 지우기\n",
    "    elem.clear()\n",
    "    #날짜 입력칸에 글자 입력\n",
    "    elem.send_keys(i)\n",
    "    #날짜 입력칸 옆의 검색버튼 엘리먼트 선택\n",
    "    elem = browser.find_element_by_xpath(\"/html/body/form/table/tbody/tr/td[2]/table/tbody/tr[3]/td/table/tbody/tr[2]/td/a[2]/img\")\n",
    "    #검색버튼 클릭\n",
    "    elem.click()\n",
    "    #표 엘리먼트 가져오기\n",
    "    browser.switch_to.frame(browser.find_element_by_xpath('/html/body/form/table/tbody/tr/td[2]/table/tbody/tr[5]/td/iframe'))\n",
    "    ls1=[]\n",
    "    for i in range(3, 8):\n",
    "        elem = browser.find_element_by_xpath(\"/html/body/form/table/tbody/tr/td/table/tbody/tr[1]/td[\"+str(i)+\"]\")\n",
    "        ls1.append(elem.text)\n",
    "    for i in range(9, 14):\n",
    "        elem = browser.find_element_by_xpath(\"/html/body/form/table/tbody/tr/td/table/tbody/tr[1]/td[\"+str(i)+\"]\")\n",
    "        ls1.append(elem.text)\n",
    "    incheon.append(ls1)\n",
    "    ls2=[]\n",
    "    for i in range(3, 8):\n",
    "        elem = browser.find_element_by_xpath(\"/html/body/form/table/tbody/tr/td/table/tbody/tr[3]/td[\"+str(i)+\"]\")\n",
    "        ls2.append(elem.text)\n",
    "    for i in range(9, 14):\n",
    "        elem = browser.find_element_by_xpath(\"/html/body/form/table/tbody/tr/td/table/tbody/tr[3]/td[\"+str(i)+\"]\")\n",
    "        ls2.append(elem.text)\n",
    "    gimpo.append(ls2)\n",
    "    ls3=[]\n",
    "    for i in range(3, 8):\n",
    "        elem = browser.find_element_by_xpath(\"/html/body/form/table/tbody/tr/td/table/tbody/tr[15]/td[\"+str(i)+\"]\")\n",
    "        ls3.append(elem.text)\n",
    "    for i in range(9, 14):\n",
    "        elem = browser.find_element_by_xpath(\"/html/body/form/table/tbody/tr/td/table/tbody/tr[15]/td[\"+str(i)+\"]\")\n",
    "        ls3.append(elem.text)\n",
    "    jeju.append(ls3)\n",
    "    browser.switch_to.default_content()"
   ]
  },
  {
   "cell_type": "markdown",
   "id": "7d994d85",
   "metadata": {},
   "source": [
    "## 6. 가져온 데이터 가공(데이터 프레임으로 변환하기)"
   ]
  },
  {
   "cell_type": "code",
   "execution_count": null,
   "id": "1bd7b51e",
   "metadata": {},
   "outputs": [],
   "source": [
    "departure_plan = []\n",
    "departure_flight = []\n",
    "departure_cancellation = []\n",
    "departure_etc = []\n",
    "departure_leftover = []\n",
    "arrival_plan = []\n",
    "arrival_flight = []\n",
    "arrival_cancellation = []\n",
    "arrival_etc = []\n",
    "arrival_leftover = []"
   ]
  },
  {
   "cell_type": "code",
   "execution_count": null,
   "id": "8fcf0151",
   "metadata": {},
   "outputs": [],
   "source": [
    "for i in range(len(incheon)):\n",
    "    departure_plan.append(incheon[i][0])\n",
    "    departure_flight.append(incheon[i][1])\n",
    "    departure_cancellation.append(incheon[i][2])\n",
    "    departure_etc.append(incheon[i][3])\n",
    "    departure_leftover.append(incheon[i][4])\n",
    "    arrival_plan.append(incheon[i][5])\n",
    "    arrival_flight.append(incheon[i][6])\n",
    "    arrival_cancellation.append(incheon[i][7])\n",
    "    arrival_etc.append(incheon[i][8])\n",
    "    arrival_leftover.append(incheon[i][9])\n",
    "    \n",
    "    departure_plan.append(gimpo[i][0])\n",
    "    departure_flight.append(gimpo[i][1])\n",
    "    departure_cancellation.append(gimpo[i][2])\n",
    "    departure_etc.append(gimpo[i][3])\n",
    "    departure_leftover.append(gimpo[i][4])\n",
    "    arrival_plan.append(gimpo[i][5])\n",
    "    arrival_flight.append(gimpo[i][6])\n",
    "    arrival_cancellation.append(gimpo[i][7])\n",
    "    arrival_etc.append(gimpo[i][8])\n",
    "    arrival_leftover.append(gimpo[i][9])\n",
    "    \n",
    "    departure_plan.append(jeju[i][0])\n",
    "    departure_flight.append(jeju[i][1])\n",
    "    departure_cancellation.append(jeju[i][2])\n",
    "    departure_etc.append(jeju[i][3])\n",
    "    departure_leftover.append(jeju[i][4])\n",
    "    arrival_plan.append(jeju[i][5])\n",
    "    arrival_flight.append(jeju[i][6])\n",
    "    arrival_cancellation.append(jeju[i][7])\n",
    "    arrival_etc.append(jeju[i][8])\n",
    "    arrival_leftover.append(jeju[i][9])"
   ]
  },
  {
   "cell_type": "code",
   "execution_count": null,
   "id": "7520a21e",
   "metadata": {},
   "outputs": [],
   "source": [
    "renew_date=[]\n",
    "for i in date:\n",
    "    for _ in range(3):\n",
    "        renew_date.append(i)"
   ]
  },
  {
   "cell_type": "code",
   "execution_count": null,
   "id": "2350abda",
   "metadata": {},
   "outputs": [],
   "source": [
    "dic={}\n",
    "dic['id']=[i for i in range(len(renew_date))]\n",
    "dic['date']=renew_date\n",
    "dic['airport']=['인천공항','김포공항','제주공항']*(len(date))\n",
    "dic['departure_plan']=departure_plan\n",
    "dic['departure_flight']=departure_flight\n",
    "dic['departure_cancellation']=departure_cancellation\n",
    "dic['departure_etc']=departure_etc\n",
    "dic['departure_leftover']=departure_leftover\n",
    "dic['arrival_plan']=arrival_plan\n",
    "dic['arrival_flight']=arrival_flight\n",
    "dic['arrival_cancellation']=arrival_cancellation\n",
    "dic['arrival_etc']=arrival_etc\n",
    "dic['arrival_leftover']=arrival_leftover"
   ]
  },
  {
   "cell_type": "code",
   "execution_count": null,
   "id": "8d804bd3",
   "metadata": {},
   "outputs": [],
   "source": [
    "#데이터프레임 생성\n",
    "data = pd.DataFrame(dic)"
   ]
  },
  {
   "cell_type": "code",
   "execution_count": null,
   "id": "517dd391",
   "metadata": {},
   "outputs": [],
   "source": [
    "data"
   ]
  },
  {
   "cell_type": "code",
   "execution_count": null,
   "id": "8a3b0f4a",
   "metadata": {},
   "outputs": [],
   "source": []
  },
  {
   "cell_type": "markdown",
   "id": "b51720cf",
   "metadata": {},
   "source": [
    "## 7. 데이터를 엑셀파일에 저장"
   ]
  },
  {
   "cell_type": "code",
   "execution_count": null,
   "id": "fbc51c70",
   "metadata": {},
   "outputs": [],
   "source": [
    "# 엑셀 기존 파일에 시트 추가해서 여러 데이터 넣기\n",
    "if not os.path.exists('C:/Users/gocjs/크롤링/☆22.07.12 항공정보 전국공항운항현황.xlsx'):    # 파일이 없으면 쓰기모드\n",
    "    with pd.ExcelWriter('C:/Users/gocjs/크롤링/☆22.07.12 항공정보 전국공항운항현황.xlsx', mode='w', engine='openpyxl') as writer:\n",
    "        data.to_excel(writer, index=False, sheet_name='data', startcol=1, startrow=2)\n",
    "\n",
    "else:    # 파일이 있으면 append 모드\n",
    "    with pd.ExcelWriter('C:/Users/gocjs/크롤링/☆22.07.12 항공정보 전국공항운항현황.xlsx', mode='a', engine='openpyxl') as writer:\n",
    "        data.to_excel(writer, index=False, sheet_name='data2', startcol=0, startrow=0)"
   ]
  },
  {
   "cell_type": "code",
   "execution_count": null,
   "id": "ae7f9fe3",
   "metadata": {},
   "outputs": [],
   "source": []
  },
  {
   "cell_type": "code",
   "execution_count": null,
   "id": "3212f9be",
   "metadata": {},
   "outputs": [],
   "source": []
  },
  {
   "cell_type": "code",
   "execution_count": null,
   "id": "633af243",
   "metadata": {},
   "outputs": [],
   "source": []
  }
 ],
 "metadata": {
  "kernelspec": {
   "display_name": "Python 3",
   "language": "python",
   "name": "python3"
  },
  "language_info": {
   "codemirror_mode": {
    "name": "ipython",
    "version": 3
   },
   "file_extension": ".py",
   "mimetype": "text/x-python",
   "name": "python",
   "nbconvert_exporter": "python",
   "pygments_lexer": "ipython3",
   "version": "3.9.13"
  }
 },
 "nbformat": 4,
 "nbformat_minor": 5
}
